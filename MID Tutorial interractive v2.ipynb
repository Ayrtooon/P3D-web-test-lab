{
 "cells": [
  {
   "cell_type": "markdown",
   "metadata": {},
   "source": [
    "# Tutoriel MID Générique\n",
    "<u>Objectif</u> : Illustrer les propriétés de la MID.\n",
    "\n",
    "Concrètement, nous considérons un système qui a un controle par une loi de commande retardée (expression mathématique) et l'on prend compte et tirons avantage de ce retard dans le calcul des gains de la loi de commande retardée pour stabiliser le système.\n",
    "\n",
    "<u> Informations importantes </u> :\n",
    "\n",
    "- Stabilité : Lorsque l'on a l'équation décrivant un système dans l'espace de Laplace (transformée de Laplace), la stabilité est traduite par l'ensemble des racines (complexes) de l'équation ayant leurs parties réelles négatives. On dit que les racines sont à gauche (de l'axe des ordonnées).\n",
    "- Transformée de Laplace (juste pour info) : Dans notre cas, la partie la plus importante dans la transformée de Laplace est la dérivation, c'est ce qui nous permet de passer d'une équation différentielle à une équation polynomiale. L'idée très grossière est qu'une dérivée d'ordre $n$ dans l'espace \"classique\"/\"temporel\" correspond à une multiplication par un terme $s^n$ dans l'espace de Laplace (fréquentiel). Donc, par exemple, $4\\times k \\times y''(t)\\rightarrow 4ks^2y(s)$\n",
    "\n",
    "On traite une équation différentielle du type :\n",
    "$$\n",
    "\\frac{d^n y(t)}{dt^n} + \\sum\\limits_{i=0}^{n-1}a_i\\frac{d^i y(t)}{dt^i} + \\sum\\limits_{j=0}^m \\alpha_j\\frac{d^j y(t-\\tau)}{dt^j}=0\n",
    "$$\n",
    "\n",
    "- $n, m\\in\\mathbb{N}, n>m$\n",
    "- $a_i, \\alpha_j \\in \\mathbb{R}$\n",
    "- $s\\in\\mathbb{C}$,\n",
    "- $\\tau \\in \\mathbb{R}$\n",
    "\n",
    "Par une transformée de Laplace :\n",
    "$$\n",
    "Q(s) = s^n+a_{n-1}s^{n-1}+...+a_0 + \\left[\\alpha_ms^m+...+\\alpha_0\\right]e^{-s\\tau}\n",
    "$$\n",
    "\n",
    "Cette équation est polynomiale et non différentielle ce qui la rend beaucoup plus simple à traiter.\n",
    "\n",
    "On souhaite réaliser ce que l'on appelle un placement de pôle. Cela signifie dans ce cas que l'on veut trouver les coefficients ($a_i$ et $\\alpha_j$ parfois notés $b_j$) soient de telle sorte que $Q(s_0)=0$. \n",
    "\n",
    "On connaît donc une valeur de racine à \"forcer\" pour le quasipolynôme en jouant sur les coefficients.\n",
    "\n",
    "Le code suivant a été développé sur la base du pseudo-code de la MID Générique, décrit par Franck, que vous trouverez à la fin du document. Puis adapté en version interactive par les équipes de P3Dweb.\n"
   ]
  },
  {
   "cell_type": "code",
   "execution_count": 33,
   "metadata": {
    "scrolled": true
   },
   "outputs": [
    {
     "data": {
      "text/html": [
       "<style>div.output_scroll { height: 44em; }</style>"
      ],
      "text/plain": [
       "<IPython.core.display.HTML object>"
      ]
     },
     "metadata": {},
     "output_type": "display_data"
    }
   ],
   "source": [
    "from IPython.core.display import display, HTML\n",
    "display(HTML(\"<style>div.output_scroll { height: 44em; }</style>\"))\n",
    "%matplotlib notebook\n",
    "import numpy as np\n",
    "import sympy as sp\n",
    "import cxroots as cx\n",
    "import matplotlib.pyplot as plt\n",
    "import ipywidgets as widgets\n",
    "\n",
    "\n",
    "def MID_function(n,s0,value_tau):\n",
    "    \n",
    "    m = 1\n",
    "    \n",
    "    s = sp.symbols('s')  # define variable s for our problem to be solved\n",
    "    tau = sp.symbols('tau')  # define variable tau : delay\n",
    "    \n",
    "    a = sp.symbols([\"a{:d}\".format(i) for i in range(n)], real=True)\n",
    "    alpha = sp.symbols([\"alpha{:d}\".format(i) for i in range(m + 1)], real=True)\n",
    "    \n",
    "    \n",
    "    Polynomial = s**n + np.array(a).dot([s**i for i in range(n)]) # Revient à faire s^n + a_{n-1}^{n-1}...\n",
    "    Delayed = np.array(alpha).dot([s**i for i in range(m+1)])*sp.exp(-s*tau) # Revient à faire \n",
    "    Q = Polynomial + Delayed \n",
    "\n",
    "    SysDerivatif = [Q]\n",
    "    for i in range(n+m+1):\n",
    "        DerniereDerivee = SysDerivatif[-1]\n",
    "        SysDerivatif.append(DerniereDerivee.diff(s)) # Dérivée par rapport à s\n",
    "    \n",
    "    sol = sp.linsolve(SysDerivatif[:-1], alpha + a).args[0] # Solveur selon les alpha et les a\n",
    "\n",
    "    solNum = sol.subs({s : s0})\n",
    "    solNum = solNum.subs({tau : value_tau})\n",
    "    \n",
    "    a_num = list(solNum[m + 1:])\n",
    "    alpha_num = list(solNum[:m + 1])\n",
    "    \n",
    "    QNumerique = s**n + np.array(a_num).dot([s**i for i in range(n)])+\\\n",
    "    np.array(alpha_num).dot([s**i for i in range(m+1)])*sp.exp(-s*tau)\n",
    "    QNumerique = QNumerique.subs(tau, value_tau)\n",
    "    \n",
    "    sysRootFinding = [QNumerique, QNumerique.diff(s)]\n",
    "    sysFunc = [sp.lambdify(s, i) for i in sysRootFinding]\n",
    "    rect = cx.Rectangle([-100, 10], [-100, 100])\n",
    "    roots = rect.roots(sysFunc[0], sysFunc[1], rootErrTol=1e-5, absTol=1e-5, M = n + m + 1)\n",
    "    xroot = np.real(roots[0])\n",
    "    yroot = np.imag(roots[0])\n",
    "\n",
    "    return xroot,yroot"
   ]
  },
  {
   "cell_type": "code",
   "execution_count": 35,
   "metadata": {
    "scrolled": true
   },
   "outputs": [
    {
     "data": {
      "application/vnd.jupyter.widget-view+json": {
       "model_id": "9ed275bf1a714d56a9df44f811e67e63",
       "version_major": 2,
       "version_minor": 0
      },
      "text/plain": [
       "interactive(children=(IntSlider(value=1, description='n', max=3), IntSlider(value=-5, description='s0', max=-4…"
      ]
     },
     "metadata": {},
     "output_type": "display_data"
    }
   ],
   "source": [
    "@widgets.interact(n=(0, 3, 1),s0=(-6, -4, 1),value_tau=(1, 2, 1))\n",
    "\n",
    "def update(n = 1, s0 = -5, value_tau = 1):\n",
    "\n",
    "    xr,yr = MID_function(n,s0,value_tau)\n",
    "    \n",
    "    fig, ax = plt.subplots(figsize=(6, 4))\n",
    "    plt.title(\"Root spectrum\")\n",
    "    plt.xlabel(r\"$Re(s)$\")\n",
    "    plt.ylabel(r\"$Im(s)$\")\n",
    "    ax.axhline(linewidth=2, color='black')\n",
    "    ax.axvline(linewidth=2, color='black')\n",
    "    ax.axvspan(0, 1, alpha=0.5, color='red')\n",
    "    ax.grid()\n",
    "    ax.scatter(xr, yr,color='steelblue')\n"
   ]
  },
  {
   "cell_type": "code",
   "execution_count": null,
   "metadata": {
    "collapsed": true,
    "scrolled": true
   },
   "outputs": [],
   "source": []
  }
 ],
 "metadata": {
  "kernelspec": {
   "display_name": "Python 3",
   "language": "python",
   "name": "python3"
  },
  "language_info": {
   "codemirror_mode": {
    "name": "ipython",
    "version": 3
   },
   "file_extension": ".py",
   "mimetype": "text/x-python",
   "name": "python",
   "nbconvert_exporter": "python",
   "pygments_lexer": "ipython3",
   "version": "3.8.8"
  }
 },
 "nbformat": 4,
 "nbformat_minor": 4
}
