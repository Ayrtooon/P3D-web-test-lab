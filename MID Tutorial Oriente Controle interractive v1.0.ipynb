{
 "cells": [
  {
   "cell_type": "markdown",
   "metadata": {},
   "source": [
    "# Tutoriel MID Contrôle\n",
    "<u>Objectif</u> : Illustrer les propriétés de la MID sous la forme contrôle.\n",
    "\n",
    "Concrètement, nous considérons un système qui a un controle par une loi de commande retardée (expression mathématique) et l'on prend compte et tirons avantage de ce retard dans le calcul des gains de la loi de commande retardée pour stabiliser le système.\n",
    "\n",
    "<u> Informations importantes </u> :\n",
    "\n",
    "- Stabilité : Lorsque l'on a l'équation décrivant un système dans l'espace de Laplace (transformée de Laplace), la stabilité est traduite par l'ensemble des racines (complexes) de l'équation ayant leurs parties réelles négatives. On dit que les racines sont à gauche (de l'axe des ordonnées).\n",
    "- Transformée de Laplace (juste pour info) : Dans notre cas, la partie la plus importante dans la transformée de Laplace est la dérivation, c'est ce qui nous permet de passer d'une équation différentielle à une équation polynomiale. L'idée très grossière est qu'une dérivée d'ordre $n$ dans l'espace \"classique\"/\"temporel\" correspond à une multiplication par un terme $s^n$ dans l'espace de Laplace (fréquentiel). Donc, par exemple, $4\\times k \\times y''(t)\\rightarrow 4ks^2y(s)$\n",
    "\n",
    "On traite une équation différentielle du type :\n",
    "$$\n",
    "\\frac{d^n y(t)}{dt^n} + \\sum\\limits_{i=0}^{n-1}a_i\\frac{d^i y(t)}{dt^i} + \\sum\\limits_{j=0}^m \\alpha_j\\frac{d^j y(t-\\tau)}{dt^j}=0\n",
    "$$\n",
    "\n",
    "- $n, m\\in\\mathbb{N}, n>m$\n",
    "- $a_i, \\alpha_j \\in \\mathbb{R}$\n",
    "- $s\\in\\mathbb{C}$,\n",
    "- $\\tau \\in \\mathbb{R}$\n",
    "\n",
    "Par une transformée de Laplace :\n",
    "$$\n",
    "Q(s) = s^n+a_{n-1}s^{n-1}+...+a_0 + \\left[\\alpha_ms^m+...+\\alpha_0\\right]e^{-s\\tau}\n",
    "$$\n",
    "\n",
    "Cette équation est polynomiale et non différentielle ce qui la rend beaucoup plus simple à traiter.\n",
    "\n",
    "Cette fois-ci, on considère que l'on connait les paramètres du systèmes $a_i$ ainsi que l'un des hyperparamètres $s_0$ ou $\\tau$. Ainsi, nous allons utiliser la MID pour trouver les $\\alpha_j$ et l'hyperparamètre manquant.\n",
    "\n",
    "Le code suivant a été développé sur la base du pseudo-code de la MID Générique, décrit par Franck, puis adapté en version interactive.\n",
    "\n",
    "Version : 1.0 (08/04/2021)\n",
    "\n"
   ]
  },
  {
   "cell_type": "code",
   "execution_count": 44,
   "metadata": {
    "scrolled": true
   },
   "outputs": [
    {
     "data": {
      "text/html": [
       "<style>div.output_scroll { height: 44em; }</style>"
      ],
      "text/plain": [
       "<IPython.core.display.HTML object>"
      ]
     },
     "metadata": {},
     "output_type": "display_data"
    }
   ],
   "source": [
    "from IPython.core.display import display, HTML\n",
    "display(HTML(\"<style>div.output_scroll { height: 44em; }</style>\"))\n",
    "%matplotlib notebook\n",
    "import numpy as np\n",
    "import sympy as sp\n",
    "import cxroots as cx\n",
    "import matplotlib.pyplot as plt\n",
    "import ipywidgets as widgets\n",
    "from IPython.display import display\n",
    "\n",
    "def MID_Oriente_function(n,m,value_s0,value_tau):\n",
    "    \n",
    "    s = sp.symbols('s')  # define variable s for our problem to be solved\n",
    "    tau = sp.symbols('tau')  # define variable tau : delay\n",
    "\n",
    "    a = sp.symbols([\"a{:d}\".format(i) for i in range(n)], real=True)\n",
    "    alpha = sp.symbols([\"alpha{:d}\".format(i) for i in range(m + 1)], real=True)\n",
    "    avalue = [1, 1]\n",
    "\n",
    "    Polynomial = s**n + np.array(a).dot([s**i for i in range(n)]) # Revient à faire s^n + a_{n-1}^{n-1}...\n",
    "    Delayed = np.array(alpha).dot([s**i for i in range(m+1)])*sp.exp(-s*tau) # Revient à faire \n",
    "    #b^m*s^m + b_{m-1}^{m-1}...\n",
    "    Q = Polynomial + Delayed \n",
    "\n",
    "    SysDerivatif = [Q]\n",
    "    for i in range(m+1):\n",
    "        DerniereDerivee = SysDerivatif[-1]\n",
    "        SysDerivatif.append(DerniereDerivee.diff(s)) # Dérivée par rapport à s\n",
    "\n",
    "    sol = sp.linsolve(SysDerivatif[:-1], alpha).args[0] # Solveur selon les alpha et les a\n",
    "\n",
    "    finaleq = SysDerivatif[-1].subs({alph : alphacoef for alph, alphacoef in zip(alpha, sol)}) #remplace les coeffs\n",
    "    finaleq = finaleq.subs({asymb: aval for asymb, aval in zip(a, avalue)})\n",
    "    solS0 = finaleq.subs({tau : value_tau})\n",
    "    solS0 = sp.solve(solS0)\n",
    "    solS0eval = [i.evalf() for i in solS0]\n",
    "\n",
    "    computedS0 = solS0[1]\n",
    "    alpha_num = sol.subs({asymb: aval for asymb, aval in zip(a, avalue)})\n",
    "    alpha_num = alpha_num.subs({s : computedS0})\n",
    "    alpha_num = alpha_num.subs({tau : value_tau})\n",
    "    alpha_num_eval = [i.evalf() for i in alpha_num]\n",
    "\n",
    "    finaleq = SysDerivatif[-1].subs({alph : alphacoef for alph, alphacoef in zip(alpha, sol)}) #remplace les coeffs\n",
    "    finaleq = finaleq.subs({asymb: aval for asymb, aval in zip(a, avalue)})\n",
    "    solTau = finaleq.subs({s : value_s0})\n",
    "    solTau = sp.solve(solTau)\n",
    "\n",
    "    computedTau = solTau[0]\n",
    "    alpha_num = sol.subs({asymb: aval for asymb, aval in zip(a, avalue)})\n",
    "    alpha_num = alpha_num.subs({tau : computedTau})\n",
    "    alpha_num = alpha_num.subs({s : value_s0})\n",
    "    alpha_num_eval = [i.evalf() for i in alpha_num]\n",
    "\n",
    "    polyAdm = SysDerivatif[-1].subs({alph : alphacoef for alph, alphacoef in zip(alpha, sol)})\n",
    "    polyAdm = polyAdm.subs({asymb: aval for asymb, aval in zip(a, avalue)})\n",
    "    polyAdm = sp.simplify(polyAdm)\n",
    "\n",
    "    s0range = np.arange(-10, 0, 0.01)\n",
    "    taurange = np.arange(0, 10, 0.01)\n",
    "\n",
    "    func = sp.lambdify([s, tau], polyAdm)\n",
    "\n",
    "    return s0range,taurange,polyAdm,s,tau"
   ]
  },
  {
   "cell_type": "code",
   "execution_count": 45,
   "metadata": {},
   "outputs": [],
   "source": [
    "output_slider = widgets.Output()\n",
    "output_equation = widgets.Output()\n",
    "\n",
    "slider_n = widgets.IntSlider(min=0,max=2,step=1,description='n :',value=2)\n",
    "slider_m = widgets.IntSlider(min=0,max=3,step=1,description='m :',value=1)\n",
    "FloatText_s0 = widgets.BoundedFloatText(value=-1.5,min=-2.0,max=0.0,step=0.1,description='s0:',disabled=False)\n",
    "FloatText_tau = widgets.BoundedFloatText(value=0.73,min=0.50,max=1.00,step=0.01,description='tau:',disabled=False)\n",
    "\n",
    "      \n",
    "def common_slider(n,m,s0,tau):\n",
    "    output_slider.clear_output()\n",
    "    output_equation.clear_output()\n",
    "    \n",
    "    with output_slider:\n",
    "        \n",
    "        s0range,taurange,polyAdm,s,tau = MID_Oriente_function(n,m,s0,tau)\n",
    "\n",
    "        s0range = np.arange(-10, 0, 0.01)\n",
    "        taurange = np.arange(0, 10, 0.01)\n",
    "\n",
    "        func = sp.lambdify([s, tau], polyAdm)\n",
    "    \n",
    "        fig, ax = plt.subplots()\n",
    "        X, Y = np.meshgrid(s0range, taurange)\n",
    "        z = func(X, Y)\n",
    "        CS = ax.contour(X, Y, z, [0])\n",
    "        ax.grid()\n",
    "        plt.xlabel(r\"$s_0$\")\n",
    "        plt.ylabel(r\"$\\tau$\")\n",
    "        plt.title(\"Plot Admissibilité\")\n",
    "    \n",
    "        \n",
    "    with output_equation :\n",
    "        print (\"Eq = \",polyAdm)\n",
    "        \n",
    "\n",
    "def slider_n_eventhandler(change):\n",
    "    common_slider(change.new, slider_m.value, FloatText_s0.value, FloatText_tau.value)\n",
    "def slider_m_eventhandler(change):\n",
    "    common_slider(slider_n.value, change.new, FloatText_s0.value, FloatText_tau.value)\n",
    "def FloatText_s0_eventhandler(change):\n",
    "    common_slider(slider_n.value, slider_m.value, change.new, FloatText_tau.value)\n",
    "def FloatText_tau_eventhandler(change):\n",
    "    common_slider(slider_n.value, slider_m.value, FloatText_s0.value, change.new)\n",
    "\n",
    "\n",
    "slider_n.observe(slider_n_eventhandler, names='value')\n",
    "slider_m.observe(slider_m_eventhandler, names='value')\n",
    "FloatText_s0.observe(FloatText_s0_eventhandler, names='value')\n",
    "FloatText_tau.observe(FloatText_tau_eventhandler, names='value')\n",
    "\n",
    "input_widgets = widgets.HBox([slider_n, slider_m, FloatText_s0, FloatText_tau])\n",
    "\n",
    "tab = widgets.Tab([output_slider, output_equation])\n",
    "tab.set_title(0, 'Plot Admissibilité ')\n",
    "tab.set_title(1, 'Output equation')\n",
    "\n",
    "dashboard = widgets.VBox([widgets.Label('Insert degree of polynomial n, degree of delay polynomial m, s0 and tau :'),input_widgets, tab])"
   ]
  },
  {
   "cell_type": "code",
   "execution_count": 46,
   "metadata": {},
   "outputs": [
    {
     "data": {
      "application/vnd.jupyter.widget-view+json": {
       "model_id": "3cc9afa091ad4ff4980ce4f4a929b2c4",
       "version_major": 2,
       "version_minor": 0
      },
      "text/plain": [
       "VBox(children=(Label(value='Insert degree of polynomial n, degree of delay polynomial m, s0 and tau :'), HBox(…"
      ]
     },
     "metadata": {},
     "output_type": "display_data"
    }
   ],
   "source": [
    "display(dashboard)"
   ]
  }
 ],
 "metadata": {
  "kernelspec": {
   "display_name": "Python 3",
   "language": "python",
   "name": "python3"
  },
  "language_info": {
   "codemirror_mode": {
    "name": "ipython",
    "version": 3
   },
   "file_extension": ".py",
   "mimetype": "text/x-python",
   "name": "python",
   "nbconvert_exporter": "python",
   "pygments_lexer": "ipython3",
   "version": "3.8.5"
  }
 },
 "nbformat": 4,
 "nbformat_minor": 4
}
